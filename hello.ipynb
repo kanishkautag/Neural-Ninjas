{
 "cells": [
  {
   "cell_type": "code",
   "execution_count": 1,
   "metadata": {},
   "outputs": [],
   "source": [
    "import pandas as pd\n",
    "\n",
    "df = pd.read_csv(\"jobs.csv\")\n",
    "# Convert skills string into list of skills\n",
    "df[\"Key Skills List\"] = df[\"Key Skills\"].apply(lambda x: [skill.strip() for skill in x.split(\"|\")])\n",
    "from collections import Counter\n",
    "\n",
    "def recommend_missing_skills(industry, candidate_skills, top_n=5):\n",
    "    # Filter by industry\n",
    "    industry_df = df[df[\"Industry\"].str.contains(industry, case=False, na=False)]\n",
    "    \n",
    "    # Flatten the list of skills from postings in this industry\n",
    "    all_skills = [skill for sublist in industry_df[\"Key Skills List\"] for skill in sublist]\n",
    "    skill_counts = Counter(all_skills)\n",
    "    \n",
    "    # Get top skills and filter out the ones candidate already has\n",
    "    recommended = [skill for skill, count in skill_counts.most_common() if skill.lower() not in {s.lower() for s in candidate_skills}]\n",
    "    \n",
    "    return recommended[:top_n]\n"
   ]
  },
  {
   "cell_type": "code",
   "execution_count": 2,
   "metadata": {},
   "outputs": [],
   "source": [
    "def jaccard_similarity(set1, set2):\n",
    "    intersection = set1.intersection(set2)\n",
    "    union = set1.union(set2)\n",
    "    return len(intersection) / len(union) if union else 0\n",
    "\n",
    "def recommend_jobs(candidate_skills, industry, top_n=5):\n",
    "    candidate_set = set([skill.lower() for skill in candidate_skills])\n",
    "    # Optionally filter by industry\n",
    "    filtered_jobs = df[df[\"Industry\"].str.contains(industry, case=False, na=False)]\n",
    "    \n",
    "    # Calculate similarity for each job\n",
    "    filtered_jobs[\"Similarity\"] = filtered_jobs[\"Key Skills List\"].apply(\n",
    "        lambda skills: jaccard_similarity(candidate_set, set(s.lower() for s in skills))\n",
    "    )\n",
    "    # Sort by similarity score\n",
    "    sorted_jobs = filtered_jobs.sort_values(by=\"Similarity\", ascending=False)\n",
    "    return sorted_jobs.head(top_n)[[\"Job Title\", \"Key Skills\", \"Similarity\"]].to_dict(orient=\"records\")\n"
   ]
  }
 ],
 "metadata": {
  "kernelspec": {
   "display_name": "Python 3",
   "language": "python",
   "name": "python3"
  },
  "language_info": {
   "codemirror_mode": {
    "name": "ipython",
    "version": 3
   },
   "file_extension": ".py",
   "mimetype": "text/x-python",
   "name": "python",
   "nbconvert_exporter": "python",
   "pygments_lexer": "ipython3",
   "version": "3.12.1"
  }
 },
 "nbformat": 4,
 "nbformat_minor": 2
}
